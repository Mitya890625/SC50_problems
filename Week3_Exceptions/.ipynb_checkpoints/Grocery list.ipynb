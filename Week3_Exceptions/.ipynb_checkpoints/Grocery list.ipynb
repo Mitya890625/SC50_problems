{
 "cells": [
  {
   "cell_type": "code",
   "execution_count": 6,
   "id": "c1c783aa",
   "metadata": {},
   "outputs": [
    {
     "name": "stdout",
     "output_type": "stream",
     "text": [
      "banana\n",
      "apple\n",
      "apple\n",
      "tomato\n",
      "q\n",
      "2 APPLE\n",
      "1 BANANA\n",
      "1 TOMATO\n"
     ]
    }
   ],
   "source": [
    "grocery_list = {}\n",
    "while True:\n",
    "    item = input()\n",
    "    if item !='q':\n",
    "        if item in grocery_list:\n",
    "            grocery_list[item] +=1\n",
    "        else:\n",
    "            grocery_list[item] = 1\n",
    "    else:\n",
    "        break\n",
    "for item in sorted(grocery_list.keys()):\n",
    "            print(grocery_list[item], item.upper())        \n",
    "    "
   ]
  },
  {
   "cell_type": "code",
   "execution_count": null,
   "id": "d945b042",
   "metadata": {},
   "outputs": [],
   "source": []
  }
 ],
 "metadata": {
  "kernelspec": {
   "display_name": "Python 3 (ipykernel)",
   "language": "python",
   "name": "python3"
  },
  "language_info": {
   "codemirror_mode": {
    "name": "ipython",
    "version": 3
   },
   "file_extension": ".py",
   "mimetype": "text/x-python",
   "name": "python",
   "nbconvert_exporter": "python",
   "pygments_lexer": "ipython3",
   "version": "3.9.12"
  }
 },
 "nbformat": 4,
 "nbformat_minor": 5
}
