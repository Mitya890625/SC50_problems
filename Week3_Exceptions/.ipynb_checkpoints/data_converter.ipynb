{
 "cells": [
  {
   "cell_type": "code",
   "execution_count": 12,
   "id": "81419c24",
   "metadata": {},
   "outputs": [
    {
     "name": "stdout",
     "output_type": "stream",
     "text": [
      "05/01/2005\n",
      "01-05-2005\n"
     ]
    }
   ],
   "source": [
    "data_dict = {'January':1, 'February': 2, 'March':3, 'April':4, 'May':5, \n",
    "             'June':6, 'Jule':7,'August':8, 'September':9, \n",
    "             'October':10, 'November':11, 'December':12}\n",
    "data = input().replace(',', '').replace('/',' ').split(' ')\n",
    "m, d, y = data\n",
    "if m in data_dict:\n",
    "    print(d, data_dict[m], y, sep='-')\n",
    "else:\n",
    "    print(d, m, y, sep='-')"
   ]
  },
  {
   "cell_type": "code",
   "execution_count": null,
   "id": "b60e5aff",
   "metadata": {},
   "outputs": [],
   "source": []
  },
  {
   "cell_type": "code",
   "execution_count": null,
   "id": "8abb3f28",
   "metadata": {},
   "outputs": [],
   "source": []
  }
 ],
 "metadata": {
  "kernelspec": {
   "display_name": "Python 3 (ipykernel)",
   "language": "python",
   "name": "python3"
  },
  "language_info": {
   "codemirror_mode": {
    "name": "ipython",
    "version": 3
   },
   "file_extension": ".py",
   "mimetype": "text/x-python",
   "name": "python",
   "nbconvert_exporter": "python",
   "pygments_lexer": "ipython3",
   "version": "3.9.12"
  }
 },
 "nbformat": 4,
 "nbformat_minor": 5
}
