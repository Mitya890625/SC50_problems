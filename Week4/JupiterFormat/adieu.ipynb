{
 "cells": [
  {
   "cell_type": "code",
   "execution_count": 26,
   "id": "3fc021a0",
   "metadata": {},
   "outputs": [
    {
     "name": "stdout",
     "output_type": "stream",
     "text": [
      "Name: mitya\n",
      "Name: tanya\n",
      "Name: jenya\n",
      "Name: denis\n",
      "Name: kolya\n",
      "Name: \n",
      "adieu, adieu to mitya, tanya, jenya, denis, and kolya\n"
     ]
    }
   ],
   "source": [
    "import inflect\n",
    "import numpy\n",
    "p = inflect.engine()\n",
    "myList = []\n",
    "while True:\n",
    "        a = input('Name: ')\n",
    "        if a !='':\n",
    "            myList.append(a)\n",
    "        else:\n",
    "            break\n",
    "        \n",
    "arr = p.join(myList)\n",
    "print('adieu, adieu to ' + arr)\n",
    "    \n",
    "\n",
    "\n",
    "    "
   ]
  },
  {
   "cell_type": "code",
   "execution_count": null,
   "id": "571e0718",
   "metadata": {},
   "outputs": [],
   "source": []
  },
  {
   "cell_type": "code",
   "execution_count": null,
   "id": "894694a3",
   "metadata": {},
   "outputs": [],
   "source": []
  }
 ],
 "metadata": {
  "kernelspec": {
   "display_name": "Python 3 (ipykernel)",
   "language": "python",
   "name": "python3"
  },
  "language_info": {
   "codemirror_mode": {
    "name": "ipython",
    "version": 3
   },
   "file_extension": ".py",
   "mimetype": "text/x-python",
   "name": "python",
   "nbconvert_exporter": "python",
   "pygments_lexer": "ipython3",
   "version": "3.9.12"
  }
 },
 "nbformat": 4,
 "nbformat_minor": 5
}
