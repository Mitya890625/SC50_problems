{
 "cells": [
  {
   "cell_type": "code",
   "execution_count": 34,
   "id": "f1464c78",
   "metadata": {},
   "outputs": [
    {
     "name": "stdout",
     "output_type": "stream",
     "text": [
      "level: 2\n",
      "50 + 48 = 98\n",
      "68 + 70 = 138\n",
      "18 + 65 = 90\n",
      "EEE\n",
      "18 + 65 = 95\n",
      "EEE\n",
      "18 + 65 = 94\n",
      "EEE\n",
      "18 + 65 = 83\n",
      "18 + 47 = 75\n",
      "EEE\n",
      "18 + 47 = 65\n",
      "92 + 26 = 118\n",
      "24 + 12 = 36\n",
      "65 + 85 = 150\n",
      "90 + 86 = 186\n",
      "EEE\n",
      "90 + 86 = 176\n",
      "65 + 84 = 149\n",
      "49 + 55 = 104\n",
      "Score:  9\n"
     ]
    }
   ],
   "source": [
    "from random import randint\n",
    "def main():\n",
    "    x = 0\n",
    "    y = 0\n",
    "    count = 0\n",
    "    temp = get_level()\n",
    "    for i in range(10):\n",
    "        if temp == 3:\n",
    "            x = randint(1, temp*333)\n",
    "            y = randint(1, temp*333)\n",
    "        elif temp == 2:\n",
    "            x = randint(1, temp*50)\n",
    "            y = randint(1, temp*50)\n",
    "        elif temp == 1:\n",
    "            x = randint(1, temp*10)\n",
    "            y = randint(1, temp*10)\n",
    "        else:\n",
    "            print('invalid level')\n",
    "        sum_comp = x+y\n",
    "        print(str(x), '+', str(y), '= ', end='')\n",
    "        user_sum = int(input())\n",
    "        if user_sum == sum_comp:\n",
    "            count +=1 \n",
    "        else:\n",
    "            print('EEE')\n",
    "            for j in range(2):\n",
    "                print(str(x), '+', str(y), '= ', end='')\n",
    "                user_sum = int(input())\n",
    "                if user_sum == sum_comp:\n",
    "                    count += 1\n",
    "                    break\n",
    "                else:\n",
    "                    print('EEE')\n",
    "                if j==1:\n",
    "                    print(str(x), '+', str(y), '=', str(sum_comp))\n",
    "    print('Score: ',count)\n",
    "    \n",
    "    \n",
    "def get_level():\n",
    "    level = int(input('level: '))\n",
    "    if level > 3:\n",
    "        pass\n",
    "    else:\n",
    "        return level\n",
    "    \n",
    "    \n",
    "    \n",
    "main()"
   ]
  },
  {
   "cell_type": "markdown",
   "id": "5ab092ff",
   "metadata": {},
   "source": [
    "\n",
    "### "
   ]
  },
  {
   "cell_type": "code",
   "execution_count": null,
   "id": "97c58600",
   "metadata": {},
   "outputs": [],
   "source": []
  }
 ],
 "metadata": {
  "kernelspec": {
   "display_name": "Python 3 (ipykernel)",
   "language": "python",
   "name": "python3"
  },
  "language_info": {
   "codemirror_mode": {
    "name": "ipython",
    "version": 3
   },
   "file_extension": ".py",
   "mimetype": "text/x-python",
   "name": "python",
   "nbconvert_exporter": "python",
   "pygments_lexer": "ipython3",
   "version": "3.9.12"
  }
 },
 "nbformat": 4,
 "nbformat_minor": 5
}
