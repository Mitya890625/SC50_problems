{
 "cells": [
  {
   "cell_type": "code",
   "execution_count": 19,
   "id": "171c0ab2",
   "metadata": {},
   "outputs": [
    {
     "name": "stdout",
     "output_type": "stream",
     "text": [
      "Level: 10\n",
      "Guess: 1\n",
      "Too small!\n",
      "Guess: 1\n",
      "Too small!\n",
      "Guess: 1\n",
      "Too small!\n",
      "Guess: 2\n",
      "Just right!\n"
     ]
    }
   ],
   "source": [
    "from random import randint\n",
    "while True:\n",
    "    level = int(input('Level: '))\n",
    "    if level < 0:\n",
    "        pass\n",
    "    else:\n",
    "        break\n",
    "while True:\n",
    "    guess_rand = randint(1, level)\n",
    "    guess_hum = int(input('Guess: '))\n",
    "    if guess_hum == guess_rand:\n",
    "        print('Just right!')\n",
    "        break\n",
    "    elif guess_hum > guess_rand:\n",
    "        print('Too large!')\n",
    "    elif guess_hum < guess_rand:\n",
    "        print('Too small!')\n",
    "    else:\n",
    "        pass\n"
   ]
  },
  {
   "cell_type": "markdown",
   "id": "c12f5dc5",
   "metadata": {},
   "source": [
    "1# -3"
   ]
  },
  {
   "cell_type": "code",
   "execution_count": null,
   "id": "1e238454",
   "metadata": {},
   "outputs": [],
   "source": []
  }
 ],
 "metadata": {
  "kernelspec": {
   "display_name": "Python 3 (ipykernel)",
   "language": "python",
   "name": "python3"
  },
  "language_info": {
   "codemirror_mode": {
    "name": "ipython",
    "version": 3
   },
   "file_extension": ".py",
   "mimetype": "text/x-python",
   "name": "python",
   "nbconvert_exporter": "python",
   "pygments_lexer": "ipython3",
   "version": "3.9.12"
  }
 },
 "nbformat": 4,
 "nbformat_minor": 5
}
