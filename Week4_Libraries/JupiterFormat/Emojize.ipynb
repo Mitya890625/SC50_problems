{
 "cells": [
  {
   "cell_type": "code",
   "execution_count": 2,
   "id": "e649d94c",
   "metadata": {},
   "outputs": [
    {
     "name": "stdout",
     "output_type": "stream",
     "text": [
      "Input: :1st_place_medal:\n",
      "Output: 🥇\n",
      "Input: :money_bag:\n",
      "Output: 💰\n",
      "Input: :smile_cat:\n",
      "Output: :smile_cat:\n",
      "Input: hello, :earth_america:\n",
      "Output: hello, :earth_america:\n",
      "Input: hello, :earth_africa:\n",
      "Output: hello, :earth_africa:\n",
      "Input: hello, :money_bag:\n",
      "Output: hello, 💰\n",
      "Input: q\n",
      "Output: q\n"
     ]
    }
   ],
   "source": [
    "import emoji\n",
    "def main():\n",
    "    emojize()\n",
    "    \n",
    "def emojize():\n",
    "    while True:\n",
    "        data = input('Input: ')\n",
    "        print('Output: ' + emoji.emojize(data))\n",
    "        if data == 'q':\n",
    "            return\n",
    "    \n",
    "    \n",
    "main()"
   ]
  }
 ],
 "metadata": {
  "kernelspec": {
   "display_name": "Python 3 (ipykernel)",
   "language": "python",
   "name": "python3"
  },
  "language_info": {
   "codemirror_mode": {
    "name": "ipython",
    "version": 3
   },
   "file_extension": ".py",
   "mimetype": "text/x-python",
   "name": "python",
   "nbconvert_exporter": "python",
   "pygments_lexer": "ipython3",
   "version": "3.9.12"
  }
 },
 "nbformat": 4,
 "nbformat_minor": 5
}
