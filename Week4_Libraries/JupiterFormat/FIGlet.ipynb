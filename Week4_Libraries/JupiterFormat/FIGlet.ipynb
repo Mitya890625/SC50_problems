{
 "cells": [
  {
   "cell_type": "code",
   "execution_count": 41,
   "id": "a247637a",
   "metadata": {},
   "outputs": [
    {
     "name": "stdout",
     "output_type": "stream",
     "text": [
      "### ### ######## # # #  # # # #  # # # #  # \n",
      "### ### ### #  # # # #  # # # #  # # # #  # \n",
      "### ### ### #  # # # #  # # # #  # # # #  # \n",
      "####### ### #  # # # #  # # # #  # # # #  # \n",
      "### ### ### #  # ######## ######## ######## \n",
      "### ### ### #  #     ####     #### ##    ## \n",
      "### ### ## # # #     ####     #### ##    ## \n",
      "                 ######## ######## ######## \n",
      "# # #  # #  ####   ## # #  #  ####  \n",
      "# # #  #  ## ###   ## # #   ## ###  \n",
      "# # #  # ########  ## # #  ######## \n",
      "# # #  # ### # #   ## # #  ### # #  \n",
      "######## ### # #  ######## ### # #  \n",
      "##    ## ######## ##    ## ######## \n",
      "##    ##  # ### # ##    ##  # ### # \n",
      "########  # ### # ########  # ### # \n",
      "\n"
     ]
    }
   ],
   "source": [
    "from pyfiglet import Figlet\n",
    "import random\n",
    "figlet = Figlet()\n",
    "arr = figlet.getFonts()   \n",
    "i = random.randint(0, 100)\n",
    "figlet.setFont(font=arr[i])\n",
    "print(figlet.renderText('Hello pisi'))"
   ]
  },
  {
   "cell_type": "code",
   "execution_count": null,
   "id": "087703e9",
   "metadata": {},
   "outputs": [],
   "source": []
  },
  {
   "cell_type": "code",
   "execution_count": null,
   "id": "86f07181",
   "metadata": {},
   "outputs": [],
   "source": []
  }
 ],
 "metadata": {
  "kernelspec": {
   "display_name": "Python 3 (ipykernel)",
   "language": "python",
   "name": "python3"
  },
  "language_info": {
   "codemirror_mode": {
    "name": "ipython",
    "version": 3
   },
   "file_extension": ".py",
   "mimetype": "text/x-python",
   "name": "python",
   "nbconvert_exporter": "python",
   "pygments_lexer": "ipython3",
   "version": "3.9.12"
  }
 },
 "nbformat": 4,
 "nbformat_minor": 5
}
